{
 "cells": [
  {
   "cell_type": "code",
   "execution_count": 3,
   "metadata": {},
   "outputs": [
    {
     "name": "stdout",
     "output_type": "stream",
     "text": [
      "abcbcbcdefghihihihihihighihihihihihiefghihihihihihighihihihihihiefghihihihihihighihihihihihiefghihihihihihighihihihihihiefghihihihihihighihihihihihidefghihihihihihighihihihihihiefghihihihihihighihihihihihiefghihihihihihighihihihihihiefghihihihihihighihihihihihiefghihihihihihighihihihihihidefghihihihihihighihihihihihiefghihihihihihighihihihihihiefghihihihihihighihihihihihiefghihihihihihighihihihihihiefghihihihihihighihihihihihidefghihihihihihighihihihihihiefghihihihihihighihihihihihiefghihihihihihighihihihihihiefghihihihihihighihihihihihiefghihihihihihighihihihihihihello\n"
     ]
    }
   ],
   "source": [
    "def multiply_input(decomp_list):\n",
    "    # if the last char is ']' just return empty string else return the last character\n",
    "    if len(decomp_list) is 1:\n",
    "        if decomp_list[0] is ']':\n",
    "            return ''\n",
    "        else:\n",
    "            return decomp_list\n",
    "        \n",
    "    # if the charc is digit, find the number and use recursion to find the string to be multiplied\n",
    "    elif decomp_list[0].isdigit():\n",
    "        num, index = getdigits(decomp_list)\n",
    "        result =  multiply_input(decomp_list[index:])\n",
    "        substring_index = result.find(\"|\")\n",
    "        if substring_index is not -1:\n",
    "            return (num * result[:substring_index]) + result[substring_index+1:]\n",
    "        else:\n",
    "            return num * result\n",
    "    \n",
    "    # if '[', using recursion find the contents inside the brackets\n",
    "    elif decomp_list[0] is '[':\n",
    "        return multiply_input(decomp_list[1:])\n",
    "    \n",
    "    # if ']', replace it with \"|\" so that, when multipled, only strings before \"|\" will be multiplied\n",
    "    elif decomp_list[0] is ']':\n",
    "        return \"|\" + multiply_input(decomp_list[1:])\n",
    "    \n",
    "    # if char, just pass one charc and call recursion from the next\n",
    "    else:\n",
    "        return decomp_list[0] + multiply_input(decomp_list[1:])\n",
    "            \n",
    "def getdigits(decomp_list):\n",
    "    num = 0\n",
    "    i = 0\n",
    "    for item in decomp_list:\n",
    "        if item.isdigit():\n",
    "            num = (num * 10) + int(item)\n",
    "            i += 1\n",
    "        else:\n",
    "            return num, i\n",
    "        \n",
    "def multiply_input_prepare(decomp_list):\n",
    "    return multiply_input('1['+ decomp_list + ']')\n",
    "\n",
    "print(multiply_input_prepare('a3[bc]4[d5[ef[2[g6[hi]]]]]hello'))\n",
    "        \n",
    "            \n",
    "       \n",
    "    \n",
    "    "
   ]
  },
  {
   "cell_type": "code",
   "execution_count": null,
   "metadata": {},
   "outputs": [],
   "source": []
  },
  {
   "cell_type": "code",
   "execution_count": null,
   "metadata": {},
   "outputs": [],
   "source": []
  }
 ],
 "metadata": {
  "kernelspec": {
   "display_name": "Python 3",
   "language": "python",
   "name": "python3"
  },
  "language_info": {
   "codemirror_mode": {
    "name": "ipython",
    "version": 3
   },
   "file_extension": ".py",
   "mimetype": "text/x-python",
   "name": "python",
   "nbconvert_exporter": "python",
   "pygments_lexer": "ipython3",
   "version": "3.6.7"
  }
 },
 "nbformat": 4,
 "nbformat_minor": 2
}
